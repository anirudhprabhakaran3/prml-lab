{
 "cells": [
  {
   "cell_type": "markdown",
   "metadata": {},
   "source": [
    "# Gaussian Mixture Models"
   ]
  },
  {
   "cell_type": "code",
   "execution_count": 1,
   "metadata": {},
   "outputs": [],
   "source": [
    "import numpy as np\n",
    "import pandas as pd\n",
    "import matplotlib.pyplot as plt"
   ]
  },
  {
   "cell_type": "code",
   "execution_count": 2,
   "metadata": {},
   "outputs": [
    {
     "data": {
      "text/html": [
       "<div>\n",
       "<style scoped>\n",
       "    .dataframe tbody tr th:only-of-type {\n",
       "        vertical-align: middle;\n",
       "    }\n",
       "\n",
       "    .dataframe tbody tr th {\n",
       "        vertical-align: top;\n",
       "    }\n",
       "\n",
       "    .dataframe thead th {\n",
       "        text-align: right;\n",
       "    }\n",
       "</style>\n",
       "<table border=\"1\" class=\"dataframe\">\n",
       "  <thead>\n",
       "    <tr style=\"text-align: right;\">\n",
       "      <th></th>\n",
       "      <th>Speaker_ID</th>\n",
       "      <th>Gender</th>\n",
       "      <th>Mother_Tongue</th>\n",
       "      <th>Height</th>\n",
       "      <th>Shoulder_size</th>\n",
       "      <th>Waist_size</th>\n",
       "      <th>Weight</th>\n",
       "      <th>Age</th>\n",
       "      <th>Native_State</th>\n",
       "      <th>Native_District</th>\n",
       "    </tr>\n",
       "  </thead>\n",
       "  <tbody>\n",
       "    <tr>\n",
       "      <th>0</th>\n",
       "      <td>Hin_0001</td>\n",
       "      <td>Female</td>\n",
       "      <td>Hindi</td>\n",
       "      <td>163.0</td>\n",
       "      <td>40.0</td>\n",
       "      <td>89.5</td>\n",
       "      <td>58.5</td>\n",
       "      <td>24.24</td>\n",
       "      <td>Rajasthan</td>\n",
       "      <td>Jaipur</td>\n",
       "    </tr>\n",
       "    <tr>\n",
       "      <th>1</th>\n",
       "      <td>Hin_0002</td>\n",
       "      <td>Female</td>\n",
       "      <td>Hindi</td>\n",
       "      <td>154.5</td>\n",
       "      <td>36.5</td>\n",
       "      <td>72</td>\n",
       "      <td>50.9</td>\n",
       "      <td>26.06</td>\n",
       "      <td>Madhya_Pradesh</td>\n",
       "      <td>Indore</td>\n",
       "    </tr>\n",
       "    <tr>\n",
       "      <th>2</th>\n",
       "      <td>Hin_0003</td>\n",
       "      <td>Male</td>\n",
       "      <td>Hindi</td>\n",
       "      <td>167.5</td>\n",
       "      <td>40.5</td>\n",
       "      <td>78</td>\n",
       "      <td>56.6</td>\n",
       "      <td>21.51</td>\n",
       "      <td>Haryana</td>\n",
       "      <td>Faridabad</td>\n",
       "    </tr>\n",
       "    <tr>\n",
       "      <th>3</th>\n",
       "      <td>Hin_0004</td>\n",
       "      <td>Male</td>\n",
       "      <td>Hindi</td>\n",
       "      <td>176.0</td>\n",
       "      <td>43.0</td>\n",
       "      <td>91.5</td>\n",
       "      <td>77.6</td>\n",
       "      <td>21.09</td>\n",
       "      <td>Chhattisgarh</td>\n",
       "      <td>Bilaspur</td>\n",
       "    </tr>\n",
       "    <tr>\n",
       "      <th>4</th>\n",
       "      <td>Hin_0005</td>\n",
       "      <td>Female</td>\n",
       "      <td>Hindi</td>\n",
       "      <td>153.0</td>\n",
       "      <td>40.5</td>\n",
       "      <td>96</td>\n",
       "      <td>80.2</td>\n",
       "      <td>27.39</td>\n",
       "      <td>Uttar_Pradesh</td>\n",
       "      <td>Kanpur_Nagar</td>\n",
       "    </tr>\n",
       "  </tbody>\n",
       "</table>\n",
       "</div>"
      ],
      "text/plain": [
       "  Speaker_ID  Gender Mother_Tongue  Height  Shoulder_size Waist_size  Weight  \\\n",
       "0   Hin_0001  Female         Hindi   163.0           40.0       89.5    58.5   \n",
       "1   Hin_0002  Female         Hindi   154.5           36.5         72    50.9   \n",
       "2   Hin_0003    Male         Hindi   167.5           40.5         78    56.6   \n",
       "3   Hin_0004    Male         Hindi   176.0           43.0       91.5    77.6   \n",
       "4   Hin_0005  Female         Hindi   153.0           40.5         96    80.2   \n",
       "\n",
       "     Age    Native_State Native_District  \n",
       "0  24.24       Rajasthan          Jaipur  \n",
       "1  26.06  Madhya_Pradesh          Indore  \n",
       "2  21.51         Haryana       Faridabad  \n",
       "3  21.09    Chhattisgarh        Bilaspur  \n",
       "4  27.39   Uttar_Pradesh    Kanpur_Nagar  "
      ]
     },
     "execution_count": 2,
     "metadata": {},
     "output_type": "execute_result"
    }
   ],
   "source": [
    "df = pd.read_csv('./total_spkrinfo.list', delimiter=\" \")\n",
    "df.head()"
   ]
  },
  {
   "cell_type": "code",
   "execution_count": 3,
   "metadata": {},
   "outputs": [
    {
     "data": {
      "text/plain": [
       "0    163.0\n",
       "1    154.5\n",
       "2    167.5\n",
       "3    176.0\n",
       "4    153.0\n",
       "Name: Height, dtype: float64"
      ]
     },
     "execution_count": 3,
     "metadata": {},
     "output_type": "execute_result"
    }
   ],
   "source": [
    "data = df['Height']\n",
    "data.head()"
   ]
  },
  {
   "cell_type": "code",
   "execution_count": 4,
   "metadata": {},
   "outputs": [
    {
     "data": {
      "image/png": "[encoded data removed]",
      "text/plain": [
       "<Figure size 432x288 with 1 Axes>"
      ]
     },
     "metadata": {
      "needs_background": "light"
     },
     "output_type": "display_data"
    }
   ],
   "source": [
    "plt.figure()\n",
    "plt.hist(data)\n",
    "plt.title(\"Height data\")\n",
    "plt.xlabel(\"Height in cm\")\n",
    "plt.ylabel(\"Count\")\n",
    "plt.show()"
   ]
  },
  {
   "cell_type": "code",
   "execution_count": 5,
   "metadata": {},
   "outputs": [],
   "source": [
    "NUMBER_OF_GAUSSIANS = 5\n",
    "NUMBER_OF_TRAINING_ITERATIONS = 20"
   ]
  },
  {
   "cell_type": "code",
   "execution_count": 6,
   "metadata": {},
   "outputs": [],
   "source": [
    "def initialise(data):\n",
    "    weights = [1/NUMBER_OF_GAUSSIANS] * NUMBER_OF_GAUSSIANS\n",
    "    variances = [1.0] * NUMBER_OF_GAUSSIANS\n",
    "    means = np.linspace(data.min(), data.max(), NUMBER_OF_GAUSSIANS)\n",
    "    \n",
    "    return (\n",
    "        np.array(weights),\n",
    "        np.array(means),\n",
    "        np.array(variances)\n",
    "    )"
   ]
  },
  {
   "cell_type": "code",
   "execution_count": 7,
   "metadata": {},
   "outputs": [],
   "source": [
    "def evaluate_gaussian(x, mean, variance):\n",
    "    first = 1 / np.sqrt(2 * np.pi * variance)\n",
    "    second = np.exp(-0.5 * ((x - mean)**2) / (variance))\n",
    "    return first * second"
   ]
  },
  {
   "cell_type": "code",
   "execution_count": 8,
   "metadata": {},
   "outputs": [],
   "source": [
    "def prob_for_one_point(x, weights, means, variances):\n",
    "    numerators = [weights[i] * evaluate_gaussian(x, means[i], variances[i]) for i in range(NUMBER_OF_GAUSSIANS)] \n",
    "    numerators = np.array(numerators)\n",
    "    denominator = np.sum(numerators)\n",
    "    return numerators/denominator"
   ]
  },
  {
   "cell_type": "code",
   "execution_count": 9,
   "metadata": {},
   "outputs": [
    {
     "data": {
      "text/plain": [
       "array([2.76982756e-162, 3.09335001e-050, 1.00000000e+000, 9.35762297e-014,\n",
       "       2.53469490e-089])"
      ]
     },
     "execution_count": 9,
     "metadata": {},
     "output_type": "execute_result"
    }
   ],
   "source": [
    "# Testing functions\n",
    "\n",
    "one_point = data[300]\n",
    "w, m, v = initialise(data)\n",
    "prob_for_one_point(one_point, w, m, v)"
   ]
  },
  {
   "cell_type": "code",
   "execution_count": 10,
   "metadata": {},
   "outputs": [],
   "source": [
    "def generate_prob_matrix(data, weights, means, variances):\n",
    "    matrix = np.array([prob_for_one_point(x, weights, means, variances) for x in data])\n",
    "    matrix = matrix.T\n",
    "    return matrix"
   ]
  },
  {
   "cell_type": "code",
   "execution_count": 11,
   "metadata": {},
   "outputs": [],
   "source": [
    "def update_mean(prob_matrix, data, means):\n",
    "    for i in range(NUMBER_OF_GAUSSIANS):\n",
    "        numerator = np.sum(prob_matrix[i, :]*data)\n",
    "        denominator = np.sum(prob_matrix[i, :])\n",
    "        means[i] = numerator/denominator\n",
    "    return means\n",
    "        \n",
    "def update_variance(prob_matrix, data, means, variances):\n",
    "    for i in range(NUMBER_OF_GAUSSIANS):\n",
    "        numerator = np.sum(prob_matrix[i, :]*data*data)\n",
    "        denominator = np.sum(prob_matrix[i, :])\n",
    "        variances[i] = numerator/denominator- means[i]**2\n",
    "    return variances\n",
    "\n",
    "def update_weight(prob_matrix, weights):\n",
    "    for i in range(NUMBER_OF_GAUSSIANS):\n",
    "        weights[i] = np.sum(prob_matrix[i, :]) / len(data)\n",
    "    return weights\n",
    "\n",
    "def update_values(prob_matrix, data, weights, means, variances):\n",
    "    new_means = update_mean(prob_matrix, data, means)\n",
    "    new_variances = update_variance(prob_matrix, data, new_means, variances)\n",
    "    new_weights = update_weight(prob_matrix, weights)\n",
    "    \n",
    "    return (\n",
    "        new_weights,\n",
    "        new_means,\n",
    "        new_variances\n",
    "    )"
   ]
  },
  {
   "cell_type": "code",
   "execution_count": 12,
   "metadata": {},
   "outputs": [],
   "source": [
    "def training_loop(data, NUM_OF_ITERATIONS):\n",
    "    history = []\n",
    "    weights, means, variances = initialise(data)\n",
    "    hist = {\n",
    "            \"iteration\": 0,\n",
    "            \"weights\": weights.copy(),\n",
    "            \"means\": means.copy(),\n",
    "            \"variances\": variances.copy()\n",
    "        }\n",
    "    history.append(hist)\n",
    "    for it in range(NUM_OF_ITERATIONS):\n",
    "        print(\"Iteration \", it+1, \" has started.\")\n",
    "        prob_matrix = generate_prob_matrix(data, weights, means, variances)\n",
    "        weights, means, variances = update_values(prob_matrix, data, weights, means, variances)\n",
    "        hist = {\n",
    "            \"iteration\": it+1,\n",
    "            \"weights\": weights.copy(),\n",
    "            \"means\": means.copy(),\n",
    "            \"variances\": variances.copy()\n",
    "        }\n",
    "        history.append(hist)\n",
    "        print(f\"Iteration \", it+1, \" has completed.\")\n",
    "    return weights, means, variances, history"
   ]
  },
  {
   "cell_type": "code",
   "execution_count": 13,
   "metadata": {},
   "outputs": [
    {
     "name": "stdout",
     "output_type": "stream",
     "text": [
      "Iteration  1  has started.\n",
      "Iteration  1  has completed.\n",
      "Iteration  2  has started.\n",
      "Iteration  2  has completed.\n",
      "Iteration  3  has started.\n",
      "Iteration  3  has completed.\n",
      "Iteration  4  has started.\n",
      "Iteration  4  has completed.\n",
      "Iteration  5  has started.\n",
      "Iteration  5  has completed.\n",
      "Iteration  6  has started.\n",
      "Iteration  6  has completed.\n",
      "Iteration  7  has started.\n",
      "Iteration  7  has completed.\n",
      "Iteration  8  has started.\n",
      "Iteration  8  has completed.\n",
      "Iteration  9  has started.\n",
      "Iteration  9  has completed.\n",
      "Iteration  10  has started.\n",
      "Iteration  10  has completed.\n",
      "Iteration  11  has started.\n",
      "Iteration  11  has completed.\n",
      "Iteration  12  has started.\n",
      "Iteration  12  has completed.\n",
      "Iteration  13  has started.\n",
      "Iteration  13  has completed.\n",
      "Iteration  14  has started.\n",
      "Iteration  14  has completed.\n",
      "Iteration  15  has started.\n",
      "Iteration  15  has completed.\n",
      "Iteration  16  has started.\n",
      "Iteration  16  has completed.\n",
      "Iteration  17  has started.\n",
      "Iteration  17  has completed.\n",
      "Iteration  18  has started.\n",
      "Iteration  18  has completed.\n",
      "Iteration  19  has started.\n",
      "Iteration  19  has completed.\n",
      "Iteration  20  has started.\n",
      "Iteration  20  has completed.\n"
     ]
    }
   ],
   "source": [
    "weights, means, variances, history = training_loop(data, NUMBER_OF_TRAINING_ITERATIONS)"
   ]
  },
  {
   "cell_type": "code",
   "execution_count": 14,
   "metadata": {},
   "outputs": [
    {
     "data": {
      "text/plain": [
       "[{'iteration': 0,\n",
       "  'weights': array([0.2, 0.2, 0.2, 0.2, 0.2]),\n",
       "  'means': array([143., 155., 167., 179., 191.]),\n",
       "  'variances': array([1., 1., 1., 1., 1.])},\n",
       " {'iteration': 1,\n",
       "  'weights': array([0.01183532, 0.25986317, 0.44918703, 0.26607098, 0.0130435 ]),\n",
       "  'means': array([145.94274123, 155.71201477, 167.18937125, 177.45175204,\n",
       "         187.11110687]),\n",
       "  'variances': array([ 4.91981097, 11.89633094, 10.41437449,  6.91481918,  4.93210526])},\n",
       " {'iteration': 2,\n",
       "  'weights': array([0.00947927, 0.26280908, 0.44793992, 0.26353046, 0.01624126]),\n",
       "  'means': array([145.75627725, 155.81615518, 167.16928378, 177.22220403,\n",
       "         186.49595776]),\n",
       "  'variances': array([ 6.07984911, 14.48833898, 12.53286137,  7.60487733,  5.65172059])},\n",
       " {'iteration': 3,\n",
       "  'weights': array([0.00786717, 0.26423626, 0.44867036, 0.26092134, 0.01830486]),\n",
       "  'means': array([145.61876925, 155.84538418, 167.16164941, 177.11297612,\n",
       "         186.13067519]),\n",
       "  'variances': array([ 6.44910466, 15.97505076, 13.69483533,  7.84422635,  6.26685727])},\n",
       " {'iteration': 4,\n",
       "  'weights': array([0.00666692, 0.26508019, 0.45001847, 0.25834087, 0.01989354]),\n",
       "  'means': array([145.45432142, 155.85238489, 167.16005584, 177.05305829,\n",
       "         185.8629237 ]),\n",
       "  'variances': array([ 6.34110895, 16.94754981, 14.44552972,  7.90800069,  6.76636884])},\n",
       " {'iteration': 5,\n",
       "  'weights': array([0.00572858, 0.26563156, 0.45161982, 0.25577722, 0.02124282]),\n",
       "  'means': array([145.23775945, 155.85063241, 167.16274645, 177.01786026,\n",
       "         185.65053006]),\n",
       "  'variances': array([ 5.80697186, 17.62076291, 14.97551096,  7.87858099,  7.16731436])},\n",
       " {'iteration': 6,\n",
       "  'weights': array([0.00498371, 0.26599582, 0.45334797, 0.25321954, 0.02245296]),\n",
       "  'means': array([144.95610701, 155.84542252, 167.168647  , 176.99695622,\n",
       "         185.47373621]),\n",
       "  'variances': array([ 4.83246609, 18.09469418, 15.37221951,  7.79301754,  7.49353391])},\n",
       " {'iteration': 7,\n",
       "  'weights': array([0.00441695, 0.26619374, 0.4551531 , 0.25065948, 0.02357673]),\n",
       "  'means': array([144.62142502, 155.83975406, 167.17701176, 176.98507661,\n",
       "         185.32103475]),\n",
       "  'variances': array([ 3.49294024, 18.41852292, 15.68229028,  7.67139919,  7.76440757])},\n",
       " {'iteration': 8,\n",
       "  'weights': array([0.0040538 , 0.26619255, 0.45701575, 0.24809139, 0.02464652]),\n",
       "  'means': array([144.30592235, 155.83588445, 167.18728898, 176.97917112,\n",
       "         185.18513662]),\n",
       "  'variances': array([ 2.22912598, 18.61610435, 15.93297676,  7.52573245,  7.99401913])},\n",
       " {'iteration': 9,\n",
       "  'weights': array([0.0038637 , 0.26600985, 0.45892992, 0.24551232, 0.02568421]),\n",
       "  'means': array([144.08816021, 155.83306907, 167.19902885, 176.97729712,\n",
       "         185.06119479]),\n",
       "  'variances': array([ 1.58020232, 18.72032317, 16.14124742,  7.36366768,  8.19244055])},\n",
       " {'iteration': 10,\n",
       "  'weights': array([0.00371254, 0.26576998, 0.46089041, 0.24292145, 0.02670562]),\n",
       "  'means': array([143.93859467, 155.82721603, 167.21173903, 176.97813221,\n",
       "         184.9458636 ]),\n",
       "  'variances': array([ 1.30843318, 18.78906371, 16.31929762,  7.19031685,  8.36695226])},\n",
       " {'iteration': 11,\n",
       "  'weights': array([0.00356713, 0.26551023, 0.46288144, 0.2403185 , 0.02772269]),\n",
       "  'means': array([143.83084374, 155.81873308, 167.22487825, 176.98072207,\n",
       "         184.83676484]),\n",
       "  'variances': array([ 1.15044384, 18.84736702, 16.47777356,  7.00928773,  8.52289767])},\n",
       " {'iteration': 12,\n",
       "  'weights': array([0.00343243, 0.26523698, 0.46488367, 0.23770217, 0.02874476]),\n",
       "  'means': array([143.74848101, 155.80925169, 167.23821714, 176.98433553,\n",
       "         184.73217307]),\n",
       "  'variances': array([ 1.0433227 , 18.89893829, 16.624314  ,  6.82334341,  8.66426042])},\n",
       " {'iteration': 13,\n",
       "  'weights': array([0.00330998, 0.26495691, 0.46688364, 0.23507028, 0.0297792 ]),\n",
       "  'means': array([143.68110704, 155.79960719, 167.25174088, 176.98841849,\n",
       "         184.63081809]),\n",
       "  'variances': array([ 0.96397529, 18.94453072, 16.7635069 ,  6.63460436,  8.79408237])},\n",
       " {'iteration': 14,\n",
       "  'weights': array([0.00319816, 0.26467566, 0.46887313, 0.2324211 , 0.03083196]),\n",
       "  'means': array([143.62210859, 155.79011753, 167.2654632 , 176.99255766,\n",
       "         184.53175961]),\n",
       "  'variances': array([ 0.89872521, 18.98501889, 16.89807393,  6.44462368,  8.9147203 ])},\n",
       " {'iteration': 15,\n",
       "  'weights': array([0.00309365, 0.2643978 , 0.4708467 , 0.2297539 , 0.03190794]),\n",
       "  'means': array([143.56663768, 155.78084411, 167.27936948, 176.99643907,\n",
       "         184.43430292]),\n",
       "  'variances': array([ 0.83850787, 19.02174091, 17.02969402,  6.25450095,  9.02798999])},\n",
       " {'iteration': 16,\n",
       "  'weights': array([0.00299183, 0.26412782, 0.47280031, 0.22706873, 0.0330113 ]),\n",
       "  'means': array([143.51029653, 155.77170902, 167.29341512, 176.99981757,\n",
       "         184.33793805]),\n",
       "  'variances': array([ 0.77626188, 19.05657275, 17.15945429,  6.06499846,  9.13527132])},\n",
       " {'iteration': 17,\n",
       "  'weights': array([0.00288665, 0.26387112, 0.47473059, 0.22436603, 0.03414561]),\n",
       "  'means': array([143.44787397, 155.76254138, 167.30753693, 177.00249844,\n",
       "         184.24229551]),\n",
       "  'variances': array([ 0.70405964, 19.09201228, 17.28810109,  5.87663344,  9.23760373])},\n",
       " {'iteration': 18,\n",
       "  'weights': array([0.00276972, 0.26363545, 0.47663452, 0.2216464 , 0.03531391]),\n",
       "  'means': array([143.37133336, 155.75307789, 167.32166435, 177.00432719,\n",
       "         184.14711437]),\n",
       "  'variances': array([ 0.60874011, 19.13138389, 17.41618975,  5.68974537,  9.33577324])},\n",
       " {'iteration': 19,\n",
       "  'weights': array([0.00262988, 0.26343177, 0.47850922, 0.21891033, 0.0365188 ]),\n",
       "  'means': array([143.2660602 , 155.74297891, 167.33572737, 177.00518429,\n",
       "         184.05221923]),\n",
       "  'variances': array([ 0.46236148, 19.17866327, 17.54418612,  5.5045458 ,  9.43038847])},\n",
       " {'iteration': 20,\n",
       "  'weights': array([0.00247019, 0.2632573 , 0.4803521 , 0.21615809, 0.03776232]),\n",
       "  'means': array([143.1127463 , 155.73258725, 167.3496631 , 177.00498246,\n",
       "         183.95750357]),\n",
       "  'variances': array([ 0.21282588, 19.23074077, 17.67251789,  5.32115845,  9.52194516])}]"
      ]
     },
     "execution_count": 14,
     "metadata": {},
     "output_type": "execute_result"
    }
   ],
   "source": [
    "history"
   ]
  },
  {
   "cell_type": "code",
   "execution_count": 15,
   "metadata": {},
   "outputs": [],
   "source": [
    "def get_cmap(n, name='hsv'):\n",
    "    '''Returns a function that maps each index in 0, 1, ..., n-1 to a distinct \n",
    "    RGB color; the keyword argument name must be a standard mpl colormap name.'''\n",
    "    return plt.cm.get_cmap(name, n)\n",
    "\n",
    "def get_gaussian_for_plot(data, mu, std):\n",
    "    x = np.linspace(start = data.min(), stop = data.max(), num = 5000)\n",
    "    f = (1 / np.sqrt(2*np.pi * std**2)) * np.exp((-1/2)*((x-mu)/std)**2)\n",
    "    \n",
    "    return x, f\n",
    "\n",
    "def get_overall_gaussian(data, weights, means, variances):\n",
    "    x = np.linspace(start = data.min(), stop = data.max(), num = 5000)\n",
    "    f = []\n",
    "    for point in x:\n",
    "        val = 0.0\n",
    "        for i in range(NUMBER_OF_GAUSSIANS):\n",
    "            val += weights[i] * evaluate_gaussian(point, means[i], variances[i])\n",
    "        f.append(val)\n",
    "    return x, f"
   ]
  },
  {
   "cell_type": "code",
   "execution_count": 18,
   "metadata": {},
   "outputs": [
    {
     "data": {
      "image/png": "[encoded data removed]",
      "text/plain": [
       "<Figure size 1080x720 with 1 Axes>"
      ]
     },
     "metadata": {
      "needs_background": "light"
     },
     "output_type": "display_data"
    }
   ],
   "source": [
    "cmap = get_cmap(NUMBER_OF_GAUSSIANS)\n",
    "\n",
    "figure = plt.figure(figsize = (15, 10))\n",
    "plt.hist(data, density=True, bins=20)\n",
    "plt.title(\"Height data\")\n",
    "plt.xlabel(\"Height in cm\")\n",
    "plt.ylabel(\"Count\")\n",
    "for i in range(NUMBER_OF_GAUSSIANS):\n",
    "    x, f = get_gaussian_for_plot(data, means[i], variances[i])\n",
    "    plt.plot(x, weights[i] * f, c=cmap(i))\n",
    "x_total, f_total = get_overall_gaussian(data, weights, means, variances)\n",
    "plt.plot(x_total, f_total)\n",
    "plt.show()"
   ]
  },
  {
   "cell_type": "code",
   "execution_count": null,
   "metadata": {},
   "outputs": [],
   "source": []
  }
 ],
 "metadata": {
  "kernelspec": {
   "display_name": "Python 3 (ipykernel)",
   "language": "python",
   "name": "python3"
  },
  "language_info": {
   "codemirror_mode": {
    "name": "ipython",
    "version": 3
   },
   "file_extension": ".py",
   "mimetype": "text/x-python",
   "name": "python",
   "nbconvert_exporter": "python",
   "pygments_lexer": "ipython3",
   "version": "3.7.0"
  }
 },
 "nbformat": 4,
 "nbformat_minor": 2
}
