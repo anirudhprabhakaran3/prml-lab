{
 "cells": [
  {
   "cell_type": "code",
   "execution_count": 3,
   "metadata": {
    "id": "XOkcHIaxX4sN"
   },
   "outputs": [],
   "source": [
    "import numpy as np\n",
    "import matplotlib.pyplot as plt\n",
    "import tensorflow as tf"
   ]
  },
  {
   "cell_type": "code",
   "execution_count": 5,
   "metadata": {
    "colab": {
     "base_uri": "https://localhost:8080/"
    },
    "id": "74Ey861uYCAf",
    "outputId": "6b5bb741-eb27-4e85-dd03-4761114570b6"
   },
   "outputs": [],
   "source": [
    "(X_train, Y_train), (_, _) = tf.keras.datasets.mnist.load_data()"
   ]
  },
  {
   "cell_type": "code",
   "execution_count": 6,
   "metadata": {
    "colab": {
     "base_uri": "https://localhost:8080/"
    },
    "id": "dcosuzMEYNWv",
    "outputId": "b15f1c21-a033-487f-bcd8-3bbfa56c72ea"
   },
   "outputs": [
    {
     "data": {
      "text/plain": [
       "(60000, 28, 28)"
      ]
     },
     "execution_count": 6,
     "metadata": {},
     "output_type": "execute_result"
    }
   ],
   "source": [
    "X_train.shape"
   ]
  },
  {
   "cell_type": "code",
   "execution_count": 7,
   "metadata": {
    "id": "WBdDTmmoYQNe"
   },
   "outputs": [],
   "source": [
    "Z = X_train[Y_train == 0]"
   ]
  },
  {
   "cell_type": "code",
   "execution_count": 8,
   "metadata": {
    "colab": {
     "base_uri": "https://localhost:8080/"
    },
    "id": "qJpjftRaYeAI",
    "outputId": "f48a4751-9f29-4efa-fe12-2969b237a7be"
   },
   "outputs": [
    {
     "data": {
      "text/plain": [
       "(5923, 28, 28)"
      ]
     },
     "execution_count": 8,
     "metadata": {},
     "output_type": "execute_result"
    }
   ],
   "source": [
    "Z.shape"
   ]
  },
  {
   "cell_type": "code",
   "execution_count": 9,
   "metadata": {
    "id": "QHt1N-XoYfl3"
   },
   "outputs": [],
   "source": [
    "z = Z.reshape(-1, 784)"
   ]
  },
  {
   "cell_type": "code",
   "execution_count": 10,
   "metadata": {
    "colab": {
     "base_uri": "https://localhost:8080/"
    },
    "id": "jf8GHGq2Ymph",
    "outputId": "edb72478-6f53-4b1e-a27f-3423e0bcafdd"
   },
   "outputs": [
    {
     "data": {
      "text/plain": [
       "(5923, 784)"
      ]
     },
     "execution_count": 10,
     "metadata": {},
     "output_type": "execute_result"
    }
   ],
   "source": [
    "z.shape"
   ]
  },
  {
   "cell_type": "code",
   "execution_count": 11,
   "metadata": {
    "id": "Qo1wmy7yZS8w"
   },
   "outputs": [],
   "source": [
    "mu = np.mean(z, axis = 0)"
   ]
  },
  {
   "cell_type": "code",
   "execution_count": 12,
   "metadata": {
    "id": "gxIQXmbYZc-3"
   },
   "outputs": [],
   "source": [
    "C = np.cov(z.T)"
   ]
  },
  {
   "cell_type": "code",
   "execution_count": 13,
   "metadata": {
    "id": "UbkOccgGZ_oZ"
   },
   "outputs": [],
   "source": [
    "eig_vals, eig_vecs = np.linalg.eig(C)"
   ]
  },
  {
   "cell_type": "code",
   "execution_count": 14,
   "metadata": {
    "colab": {
     "base_uri": "https://localhost:8080/",
     "height": 282
    },
    "id": "u_0QqqFCakUp",
    "outputId": "d22ba8ad-2834-4b86-b5fe-e5bb57e8c091"
   },
   "outputs": [
    {
     "data": {
      "text/plain": [
       "<matplotlib.image.AxesImage at 0x7f952b2d5e10>"
      ]
     },
     "execution_count": 14,
     "metadata": {},
     "output_type": "execute_result"
    },
    {
     "data": {
      "image/png": "[encoded data removed]",
      "text/plain": [
       "<Figure size 640x480 with 1 Axes>"
      ]
     },
     "metadata": {},
     "output_type": "display_data"
    }
   ],
   "source": [
    "plt.imshow(Z[0])"
   ]
  },
  {
   "cell_type": "code",
   "execution_count": 74,
   "metadata": {
    "id": "v3ljQ01NanrI"
   },
   "outputs": [],
   "source": [
    "x = z[0]"
   ]
  },
  {
   "cell_type": "code",
   "execution_count": 75,
   "metadata": {
    "id": "8TwAjtmIbGKS"
   },
   "outputs": [],
   "source": [
    "c1 = np.dot((x - mu), eig_vecs[0])"
   ]
  },
  {
   "cell_type": "code",
   "execution_count": 76,
   "metadata": {
    "id": "tV1X_wo8bHIw"
   },
   "outputs": [],
   "source": [
    "x_hat = mu + c1*eig_vecs[0]"
   ]
  },
  {
   "cell_type": "code",
   "execution_count": 77,
   "metadata": {
    "colab": {
     "base_uri": "https://localhost:8080/"
    },
    "id": "VXgNxeVLbySC",
    "outputId": "d5d3d0c3-1790-4877-9ebf-a88611595f88"
   },
   "outputs": [
    {
     "data": {
      "text/plain": [
       "(784,)"
      ]
     },
     "execution_count": 77,
     "metadata": {},
     "output_type": "execute_result"
    }
   ],
   "source": [
    "x_hat.shape"
   ]
  },
  {
   "cell_type": "code",
   "execution_count": 78,
   "metadata": {
    "colab": {
     "base_uri": "https://localhost:8080/"
    },
    "id": "V7uxmBcLbmAR",
    "outputId": "47a61ce4-8c4c-4302-a64c-2a910f9c0e14"
   },
   "outputs": [
    {
     "name": "stderr",
     "output_type": "stream",
     "text": [
      "<ipython-input-78-86e64ea02c35>:1: ComplexWarning: Casting complex values to real discards the imaginary part\n",
      "  x_hat = x_hat.astype(np.float32)\n"
     ]
    }
   ],
   "source": [
    "x_hat = x_hat.astype(np.float32)"
   ]
  },
  {
   "cell_type": "code",
   "execution_count": 79,
   "metadata": {
    "colab": {
     "base_uri": "https://localhost:8080/"
    },
    "id": "DX1bSsI3cTyp",
    "outputId": "c8dc07da-adb7-4c20-da4f-bb43ddb40d1f"
   },
   "outputs": [
    {
     "data": {
      "text/plain": [
       "(784,)"
      ]
     },
     "execution_count": 79,
     "metadata": {},
     "output_type": "execute_result"
    }
   ],
   "source": [
    "x_hat.shape"
   ]
  },
  {
   "cell_type": "code",
   "execution_count": 80,
   "metadata": {
    "colab": {
     "base_uri": "https://localhost:8080/",
     "height": 282
    },
    "id": "qlfP1PaKbRrB",
    "outputId": "0dcdff4d-544b-4708-d499-1dff9e9d3a7d"
   },
   "outputs": [
    {
     "data": {
      "text/plain": [
       "<matplotlib.image.AxesImage at 0x7ff83ff80a00>"
      ]
     },
     "execution_count": 80,
     "metadata": {},
     "output_type": "execute_result"
    },
    {
     "data": {
      "image/png": "[encoded data removed]",
      "text/plain": [
       "<Figure size 432x288 with 1 Axes>"
      ]
     },
     "metadata": {
      "needs_background": "light"
     },
     "output_type": "display_data"
    }
   ],
   "source": [
    "plt.imshow(x_hat.reshape((28, 28)))"
   ]
  },
  {
   "cell_type": "code",
   "execution_count": 81,
   "metadata": {
    "colab": {
     "base_uri": "https://localhost:8080/"
    },
    "id": "lQII7N8EbkDp",
    "outputId": "cc57420a-387f-4f8b-890f-4baa4666de52"
   },
   "outputs": [
    {
     "name": "stderr",
     "output_type": "stream",
     "text": [
      "<ipython-input-81-b0bb694df924>:6: ComplexWarning: Casting complex values to real discards the imaginary part\n",
      "  new_x_hat += (mu + c * e).astype(np.float32)\n"
     ]
    }
   ],
   "source": [
    "eigenvectors = eig_vecs[0:5]\n",
    "new_x_hat = np.zeros(784)\n",
    "\n",
    "for e in eigenvectors:\n",
    "  c = np.dot((x-mu), e)\n",
    "  new_x_hat += (mu + c * e).astype(np.float32)"
   ]
  },
  {
   "cell_type": "code",
   "execution_count": 82,
   "metadata": {
    "colab": {
     "base_uri": "https://localhost:8080/",
     "height": 282
    },
    "id": "jX25YXnqcnYD",
    "outputId": "94e96357-96c9-438f-a457-deff12d81571"
   },
   "outputs": [
    {
     "data": {
      "text/plain": [
       "<matplotlib.image.AxesImage at 0x7ff83f99fa00>"
      ]
     },
     "execution_count": 82,
     "metadata": {},
     "output_type": "execute_result"
    },
    {
     "data": {
      "image/png": "[encoded data removed]",
      "text/plain": [
       "<Figure size 432x288 with 1 Axes>"
      ]
     },
     "metadata": {
      "needs_background": "light"
     },
     "output_type": "display_data"
    }
   ],
   "source": [
    "plt.imshow(new_x_hat.reshape((28, 28)))"
   ]
  },
  {
   "cell_type": "code",
   "execution_count": 83,
   "metadata": {
    "colab": {
     "base_uri": "https://localhost:8080/",
     "height": 310
    },
    "id": "EoCiwI6fc7-h",
    "outputId": "080312ef-056c-4413-ea2b-babc379e63dc"
   },
   "outputs": [
    {
     "data": {
      "image/png": "[encoded data removed]",
      "text/plain": [
       "<Figure size 1080x360 with 3 Axes>"
      ]
     },
     "metadata": {
      "needs_background": "light"
     },
     "output_type": "display_data"
    }
   ],
   "source": [
    "fig = plt.figure(figsize = (15, 5))\n",
    "fig.add_subplot(1, 3, 1)\n",
    "plt.title('Original')\n",
    "plt.imshow(x.reshape((28, 28)))\n",
    "fig.add_subplot(1, 3, 2)\n",
    "plt.title('Reconstructed using one component')\n",
    "plt.imshow(x_hat.reshape((28, 28)))\n",
    "fig.add_subplot(1, 3, 3)\n",
    "plt.title('Reconstructed using five components')\n",
    "plt.imshow(new_x_hat.reshape((28, 28)))\n",
    "plt.show()"
   ]
  },
  {
   "cell_type": "code",
   "execution_count": null,
   "metadata": {
    "id": "Y8yx9_EGhyig"
   },
   "outputs": [],
   "source": []
  }
 ],
 "metadata": {
  "colab": {
   "provenance": []
  },
  "kernelspec": {
   "display_name": "Python 3 (ipykernel)",
   "language": "python",
   "name": "python3"
  },
  "language_info": {
   "codemirror_mode": {
    "name": "ipython",
    "version": 3
   },
   "file_extension": ".py",
   "mimetype": "text/x-python",
   "name": "python",
   "nbconvert_exporter": "python",
   "pygments_lexer": "ipython3",
   "version": "3.10.9"
  }
 },
 "nbformat": 4,
 "nbformat_minor": 1
}
